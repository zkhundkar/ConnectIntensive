{
 "cells": [
  {
   "cell_type": "code",
   "execution_count": 1,
   "metadata": {},
   "outputs": [
    {
     "data": {
      "text/plain": [
       "True"
      ]
     },
     "execution_count": 1,
     "metadata": {},
     "output_type": "execute_result"
    }
   ],
   "source": [
    "path = \"C:/Users/Zeta/Downloads/\"\n",
    "import os\n",
    "os.path.isfile(path+\"sim_improved-learning2.csv\")"
   ]
  },
  {
   "cell_type": "code",
   "execution_count": 2,
   "metadata": {},
   "outputs": [
    {
     "data": {
      "text/html": [
       "<div>\n",
       "<style>\n",
       "    .dataframe thead tr:only-child th {\n",
       "        text-align: right;\n",
       "    }\n",
       "\n",
       "    .dataframe thead th {\n",
       "        text-align: left;\n",
       "    }\n",
       "\n",
       "    .dataframe tbody tr th {\n",
       "        vertical-align: top;\n",
       "    }\n",
       "</style>\n",
       "<table border=\"1\" class=\"dataframe\">\n",
       "  <thead>\n",
       "    <tr style=\"text-align: right;\">\n",
       "      <th></th>\n",
       "      <th>light</th>\n",
       "      <th>oncoming</th>\n",
       "      <th>left</th>\n",
       "      <th>waypoint</th>\n",
       "      <th>None</th>\n",
       "      <th>forward</th>\n",
       "      <th>right</th>\n",
       "      <th>left.1</th>\n",
       "    </tr>\n",
       "  </thead>\n",
       "  <tbody>\n",
       "    <tr>\n",
       "      <th>0</th>\n",
       "      <td>green</td>\n",
       "      <td>None</td>\n",
       "      <td>right</td>\n",
       "      <td>left</td>\n",
       "      <td>-2.9210</td>\n",
       "      <td>1.5555</td>\n",
       "      <td>0.1170</td>\n",
       "      <td>0.0000</td>\n",
       "    </tr>\n",
       "    <tr>\n",
       "      <th>1</th>\n",
       "      <td>red</td>\n",
       "      <td>None</td>\n",
       "      <td>left</td>\n",
       "      <td>right</td>\n",
       "      <td>0.0000</td>\n",
       "      <td>0.0000</td>\n",
       "      <td>1.9403</td>\n",
       "      <td>-8.2500</td>\n",
       "    </tr>\n",
       "    <tr>\n",
       "      <th>2</th>\n",
       "      <td>green</td>\n",
       "      <td>None</td>\n",
       "      <td>right</td>\n",
       "      <td>right</td>\n",
       "      <td>-2.8753</td>\n",
       "      <td>0.0000</td>\n",
       "      <td>2.4743</td>\n",
       "      <td>0.0000</td>\n",
       "    </tr>\n",
       "    <tr>\n",
       "      <th>3</th>\n",
       "      <td>green</td>\n",
       "      <td>left</td>\n",
       "      <td>right</td>\n",
       "      <td>forward</td>\n",
       "      <td>0.0000</td>\n",
       "      <td>1.3505</td>\n",
       "      <td>0.0000</td>\n",
       "      <td>0.0000</td>\n",
       "    </tr>\n",
       "    <tr>\n",
       "      <th>4</th>\n",
       "      <td>red</td>\n",
       "      <td>left</td>\n",
       "      <td>right</td>\n",
       "      <td>forward</td>\n",
       "      <td>0.0000</td>\n",
       "      <td>-19.5539</td>\n",
       "      <td>0.5275</td>\n",
       "      <td>-5.2522</td>\n",
       "    </tr>\n",
       "  </tbody>\n",
       "</table>\n",
       "</div>"
      ],
      "text/plain": [
       "   light oncoming   left waypoint    None  forward   right  left.1\n",
       "0  green     None  right     left -2.9210   1.5555  0.1170  0.0000\n",
       "1    red     None   left    right  0.0000   0.0000  1.9403 -8.2500\n",
       "2  green     None  right    right -2.8753   0.0000  2.4743  0.0000\n",
       "3  green     left  right  forward  0.0000   1.3505  0.0000  0.0000\n",
       "4    red     left  right  forward  0.0000 -19.5539  0.5275 -5.2522"
      ]
     },
     "execution_count": 2,
     "metadata": {},
     "output_type": "execute_result"
    }
   ],
   "source": [
    "import pandas as pd\n",
    "df = pd.read_csv(path+\"sim_improved-learning2.csv\")\n",
    "df.head()"
   ]
  },
  {
   "cell_type": "code",
   "execution_count": 3,
   "metadata": {},
   "outputs": [],
   "source": [
    "import seaborn as sns\n",
    "import matplotlib.pyplot as plt\n",
    "%matplotlib inline"
   ]
  },
  {
   "cell_type": "code",
   "execution_count": 15,
   "metadata": {},
   "outputs": [],
   "source": [
    "df.columns = ['light', 'oncoming','t-left', 'waypoint', 'None', 'forward', 'right', 'left']"
   ]
  },
  {
   "cell_type": "code",
   "execution_count": 19,
   "metadata": {},
   "outputs": [],
   "source": [
    "df['state'] = df[['light', 'oncoming']].apply(lambda x: [item[0] for item in x])"
   ]
  },
  {
   "cell_type": "code",
   "execution_count": 20,
   "metadata": {},
   "outputs": [
    {
     "data": {
      "text/html": [
       "<div>\n",
       "<style>\n",
       "    .dataframe thead tr:only-child th {\n",
       "        text-align: right;\n",
       "    }\n",
       "\n",
       "    .dataframe thead th {\n",
       "        text-align: left;\n",
       "    }\n",
       "\n",
       "    .dataframe tbody tr th {\n",
       "        vertical-align: top;\n",
       "    }\n",
       "</style>\n",
       "<table border=\"1\" class=\"dataframe\">\n",
       "  <thead>\n",
       "    <tr style=\"text-align: right;\">\n",
       "      <th></th>\n",
       "      <th>light</th>\n",
       "      <th>oncoming</th>\n",
       "      <th>t-left</th>\n",
       "      <th>waypoint</th>\n",
       "      <th>None</th>\n",
       "      <th>forward</th>\n",
       "      <th>right</th>\n",
       "      <th>left</th>\n",
       "      <th>state</th>\n",
       "    </tr>\n",
       "  </thead>\n",
       "  <tbody>\n",
       "    <tr>\n",
       "      <th>0</th>\n",
       "      <td>green</td>\n",
       "      <td>None</td>\n",
       "      <td>right</td>\n",
       "      <td>left</td>\n",
       "      <td>-2.9210</td>\n",
       "      <td>1.5555</td>\n",
       "      <td>0.1170</td>\n",
       "      <td>0.0000</td>\n",
       "      <td>g</td>\n",
       "    </tr>\n",
       "    <tr>\n",
       "      <th>1</th>\n",
       "      <td>red</td>\n",
       "      <td>None</td>\n",
       "      <td>left</td>\n",
       "      <td>right</td>\n",
       "      <td>0.0000</td>\n",
       "      <td>0.0000</td>\n",
       "      <td>1.9403</td>\n",
       "      <td>-8.2500</td>\n",
       "      <td>r</td>\n",
       "    </tr>\n",
       "    <tr>\n",
       "      <th>2</th>\n",
       "      <td>green</td>\n",
       "      <td>None</td>\n",
       "      <td>right</td>\n",
       "      <td>right</td>\n",
       "      <td>-2.8753</td>\n",
       "      <td>0.0000</td>\n",
       "      <td>2.4743</td>\n",
       "      <td>0.0000</td>\n",
       "      <td>g</td>\n",
       "    </tr>\n",
       "    <tr>\n",
       "      <th>3</th>\n",
       "      <td>green</td>\n",
       "      <td>left</td>\n",
       "      <td>right</td>\n",
       "      <td>forward</td>\n",
       "      <td>0.0000</td>\n",
       "      <td>1.3505</td>\n",
       "      <td>0.0000</td>\n",
       "      <td>0.0000</td>\n",
       "      <td>g</td>\n",
       "    </tr>\n",
       "    <tr>\n",
       "      <th>4</th>\n",
       "      <td>red</td>\n",
       "      <td>left</td>\n",
       "      <td>right</td>\n",
       "      <td>forward</td>\n",
       "      <td>0.0000</td>\n",
       "      <td>-19.5539</td>\n",
       "      <td>0.5275</td>\n",
       "      <td>-5.2522</td>\n",
       "      <td>r</td>\n",
       "    </tr>\n",
       "  </tbody>\n",
       "</table>\n",
       "</div>"
      ],
      "text/plain": [
       "   light oncoming t-left waypoint    None  forward   right    left state\n",
       "0  green     None  right     left -2.9210   1.5555  0.1170  0.0000     g\n",
       "1    red     None   left    right  0.0000   0.0000  1.9403 -8.2500     r\n",
       "2  green     None  right    right -2.8753   0.0000  2.4743  0.0000     g\n",
       "3  green     left  right  forward  0.0000   1.3505  0.0000  0.0000     g\n",
       "4    red     left  right  forward  0.0000 -19.5539  0.5275 -5.2522     r"
      ]
     },
     "execution_count": 20,
     "metadata": {},
     "output_type": "execute_result"
    }
   ],
   "source": [
    "df.head()"
   ]
  },
  {
   "cell_type": "code",
   "execution_count": 13,
   "metadata": {},
   "outputs": [],
   "source": [
    "sel = df[(df.light=='green') & (df.waypoint=='forward')]\\\n",
    "[['None', 'forward', 'right', 'left']].transpose()"
   ]
  },
  {
   "cell_type": "code",
   "execution_count": 14,
   "metadata": {},
   "outputs": [
    {
     "data": {
      "text/plain": [
       "<matplotlib.axes._subplots.AxesSubplot at 0x20d65b61438>"
      ]
     },
     "execution_count": 14,
     "metadata": {},
     "output_type": "execute_result"
    },
    {
     "data": {
      "image/png": "[encoded data removed]",
      "text/plain": [
       "<matplotlib.figure.Figure at 0x20d65b79908>"
      ]
     },
     "metadata": {},
     "output_type": "display_data"
    }
   ],
   "source": [
    "sns.heatmap(sel)"
   ]
  },
  {
   "cell_type": "code",
   "execution_count": 32,
   "metadata": {},
   "outputs": [],
   "source": [
    "states = df[['oncoming', 't-left', 'waypoint']].as_matrix()\n",
    "df['state'] = pd.Series([\",\".join([v[0] for v in state]).upper() for state in states])\n"
   ]
  },
  {
   "cell_type": "code",
   "execution_count": 33,
   "metadata": {},
   "outputs": [
    {
     "data": {
      "text/html": [
       "<div>\n",
       "<style>\n",
       "    .dataframe thead tr:only-child th {\n",
       "        text-align: right;\n",
       "    }\n",
       "\n",
       "    .dataframe thead th {\n",
       "        text-align: left;\n",
       "    }\n",
       "\n",
       "    .dataframe tbody tr th {\n",
       "        vertical-align: top;\n",
       "    }\n",
       "</style>\n",
       "<table border=\"1\" class=\"dataframe\">\n",
       "  <thead>\n",
       "    <tr style=\"text-align: right;\">\n",
       "      <th></th>\n",
       "      <th>light</th>\n",
       "      <th>oncoming</th>\n",
       "      <th>t-left</th>\n",
       "      <th>waypoint</th>\n",
       "      <th>None</th>\n",
       "      <th>forward</th>\n",
       "      <th>right</th>\n",
       "      <th>left</th>\n",
       "      <th>state</th>\n",
       "    </tr>\n",
       "  </thead>\n",
       "  <tbody>\n",
       "    <tr>\n",
       "      <th>0</th>\n",
       "      <td>green</td>\n",
       "      <td>None</td>\n",
       "      <td>right</td>\n",
       "      <td>left</td>\n",
       "      <td>-2.9210</td>\n",
       "      <td>1.5555</td>\n",
       "      <td>0.1170</td>\n",
       "      <td>0.0000</td>\n",
       "      <td>N,R,L</td>\n",
       "    </tr>\n",
       "    <tr>\n",
       "      <th>1</th>\n",
       "      <td>red</td>\n",
       "      <td>None</td>\n",
       "      <td>left</td>\n",
       "      <td>right</td>\n",
       "      <td>0.0000</td>\n",
       "      <td>0.0000</td>\n",
       "      <td>1.9403</td>\n",
       "      <td>-8.2500</td>\n",
       "      <td>N,L,R</td>\n",
       "    </tr>\n",
       "    <tr>\n",
       "      <th>2</th>\n",
       "      <td>green</td>\n",
       "      <td>None</td>\n",
       "      <td>right</td>\n",
       "      <td>right</td>\n",
       "      <td>-2.8753</td>\n",
       "      <td>0.0000</td>\n",
       "      <td>2.4743</td>\n",
       "      <td>0.0000</td>\n",
       "      <td>N,R,R</td>\n",
       "    </tr>\n",
       "    <tr>\n",
       "      <th>3</th>\n",
       "      <td>green</td>\n",
       "      <td>left</td>\n",
       "      <td>right</td>\n",
       "      <td>forward</td>\n",
       "      <td>0.0000</td>\n",
       "      <td>1.3505</td>\n",
       "      <td>0.0000</td>\n",
       "      <td>0.0000</td>\n",
       "      <td>L,R,F</td>\n",
       "    </tr>\n",
       "    <tr>\n",
       "      <th>4</th>\n",
       "      <td>red</td>\n",
       "      <td>left</td>\n",
       "      <td>right</td>\n",
       "      <td>forward</td>\n",
       "      <td>0.0000</td>\n",
       "      <td>-19.5539</td>\n",
       "      <td>0.5275</td>\n",
       "      <td>-5.2522</td>\n",
       "      <td>L,R,F</td>\n",
       "    </tr>\n",
       "  </tbody>\n",
       "</table>\n",
       "</div>"
      ],
      "text/plain": [
       "   light oncoming t-left waypoint    None  forward   right    left  state\n",
       "0  green     None  right     left -2.9210   1.5555  0.1170  0.0000  N,R,L\n",
       "1    red     None   left    right  0.0000   0.0000  1.9403 -8.2500  N,L,R\n",
       "2  green     None  right    right -2.8753   0.0000  2.4743  0.0000  N,R,R\n",
       "3  green     left  right  forward  0.0000   1.3505  0.0000  0.0000  L,R,F\n",
       "4    red     left  right  forward  0.0000 -19.5539  0.5275 -5.2522  L,R,F"
      ]
     },
     "execution_count": 33,
     "metadata": {},
     "output_type": "execute_result"
    }
   ],
   "source": [
    "df.head()"
   ]
  },
  {
   "cell_type": "code",
   "execution_count": 50,
   "metadata": {},
   "outputs": [],
   "source": [
    "def qm_groups(df, signal='green', marker='6'):\n",
    "    sg = 'red' if signal=='red' else 'green'\n",
    "    QM = df[df.light==sg][['None', 'forward', 'left', 'right']].as_matrix()\n",
    "    states = df[df.light==sg]['state'] # match signal and marker\n",
    "    \n",
    "    threes = [(state, QM[i]) for i, state in enumerate(states) if QM[i].max() > QM[i].min() ] # include if visited > 0\n",
    "    threes.sort()\n",
    "    return zip(*threes) # sorted indices of states matching signal and marker\n"
   ]
  },
  {
   "cell_type": "code",
   "execution_count": 69,
   "metadata": {},
   "outputs": [],
   "source": [
    "def show_qmatrix(states, QM, fignum):\n",
    "    ylabels=['None', 'Forward', 'Left', 'Right']\n",
    "    \n",
    "    xlreds = [x.replace(\",\", '\\n') for x in states]\n",
    "    xlreds[0] = '\\n'.join([\": \".join(x) for x in zip([\"Oncoming\",\"Left\", \"Direction\"],xlreds[0].split('\\n'))])\n",
    "\n",
    "    f2 = plt.figure(figsize=(20,5)) \n",
    "    sp1 = f2.add_subplot(1, 1, 1)\n",
    "    annotsize = {'size':14.0}\n",
    "    \n",
    "    sns.heatmap(QM.transpose(), linewidth=.1, yticklabels = ylabels, \\\n",
    "                xticklabels= xlreds, vmin=-2.0, vmax=2.0, annot=True, annot_kws=annotsize, fmt='.1f', cmap='RdYlGn')\n",
    "    \n",
    "    #plt.text(size=12.0)\n",
    "    plt.yticks(rotation=0, size=14, ha='right');\n",
    "    plt.xticks(rotation=0., size=14, ha='right');\n",
    "    \n"
   ]
  },
  {
   "cell_type": "code",
   "execution_count": 71,
   "metadata": {},
   "outputs": [
    {
     "data": {
      "image/png": "[encoded data removed]",
      "text/plain": [
       "<matplotlib.figure.Figure at 0x20d66395e48>"
      ]
     },
     "metadata": {},
     "output_type": "display_data"
    }
   ],
   "source": [
    "#threes = qm_groups('green',fg)\n",
    "states, qred = qm_groups(df, 'red')\n",
    "\n",
    "#show_qmatrix(states, qred, 6)\n",
    "#import numpy as np\n",
    "#np.array(qred)\n",
    "show_qmatrix(states[:16], np.array(qred[:16]), 6)"
   ]
  },
  {
   "cell_type": "code",
   "execution_count": 76,
   "metadata": {},
   "outputs": [
    {
     "data": {
      "text/plain": [
       "array([[ 56. ,   0. ,   4.4,  68. ],\n",
       "       [  1.2, 104. ,  52. ,   8. ],\n",
       "       [  1.8, 135. ,  99. ,   0.9]])"
      ]
     },
     "execution_count": 76,
     "metadata": {},
     "output_type": "execute_result"
    }
   ],
   "source": [
    "A = np.array([56, 0, 4.4, 68, 1.2, 104.0, 52, 8, 1.8, 135, 99, 0.9]).reshape(3, 4)\n",
    "A"
   ]
  },
  {
   "cell_type": "code",
   "execution_count": 77,
   "metadata": {},
   "outputs": [
    {
     "data": {
      "text/plain": [
       "array([[94.91525424,  0.        ,  2.83140283, 88.42652796],\n",
       "       [ 2.03389831, 43.51464435, 33.46203346, 10.40312094],\n",
       "       [ 3.05084746, 56.48535565, 63.70656371,  1.17035111]])"
      ]
     },
     "execution_count": 77,
     "metadata": {},
     "output_type": "execute_result"
    }
   ],
   "source": [
    "100 * A / A.sum(axis=0)"
   ]
  },
  {
   "cell_type": "code",
   "execution_count": null,
   "metadata": {},
   "outputs": [],
   "source": []
  }
 ],
 "metadata": {
  "kernelspec": {
   "display_name": "Python 3",
   "language": "python",
   "name": "python3"
  },
  "language_info": {
   "codemirror_mode": {
    "name": "ipython",
    "version": 3
   },
   "file_extension": ".py",
   "mimetype": "text/x-python",
   "name": "python",
   "nbconvert_exporter": "python",
   "pygments_lexer": "ipython3",
   "version": "3.6.2"
  }
 },
 "nbformat": 4,
 "nbformat_minor": 2
}
