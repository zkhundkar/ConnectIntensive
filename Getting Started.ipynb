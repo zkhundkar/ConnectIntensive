{
 "cells": [
  {
   "cell_type": "markdown",
   "metadata": {},
   "source": [
    "## Connect Intensive - Machine Learning Nanodegree\n",
    "\n",
    "### Section 01 - Verify your environment setup\n",
    "\n",
    "In the first section of this notebook we will confirm that you have the right version of python (2.7) installed and that the\n",
    "following libraries are installed:\n",
    "\n",
    "Ensure that all the requisite Python libraries import properly, and that they are up-to-date\n",
    " - numpy\n",
    " - pandas\n",
    " - scikit-learn\n",
    " - matplotlib \n",
    " - seaborn\n",
    " "
   ]
  },
  {
   "cell_type": "markdown",
   "metadata": {},
   "source": [
    "#### Confirm your python version\n",
    "\n",
    "Run the cell below to print \"Hello world\" and the version of you python interpreter.\n",
    "\n",
    "#### Type something\n",
    "\n",
    "_Italicised_"
   ]
  },
  {
   "cell_type": "code",
   "execution_count": 3,
   "metadata": {},
   "outputs": [
    {
     "name": "stdout",
     "output_type": "stream",
     "text": [
      "Hello world\n",
      "Python version is sys.version_info(major=2, minor=7, micro=12, releaselevel='final', serial=0)\n"
     ]
    }
   ],
   "source": [
    "import sys\n",
    "print(\"Hello world\")\n",
    "print(\"Python version is {}\".format(sys.version_info))"
   ]
  },
  {
   "cell_type": "markdown",
   "metadata": {
    "collapsed": true
   },
   "source": [
    "For a quick python exercise, assign the sys.version_info object to a variable, then use that to create a string variable\n",
    "`version` to programmatically confirm that your version of python is indeed 2.7."
   ]
  },
  {
   "cell_type": "code",
   "execution_count": 4,
   "metadata": {},
   "outputs": [
    {
     "name": "stdout",
     "output_type": "stream",
     "text": [
      "sys.version_info(major=2, minor=7, micro=12, releaselevel='final', serial=0)\n"
     ]
    }
   ],
   "source": [
    "version = sys.version_info\n",
    "#TODO -- add the logic to change the value of version to a string that looks like n.n.n\n",
    "\n",
    "print version"
   ]
  },
  {
   "cell_type": "markdown",
   "metadata": {},
   "source": [
    "#### Confirm that the major libraries are available\n",
    "\n",
    "Run the cell below and confirm that they loaded without errors. The output of a successful test should be\n",
    "`pandas.core.frame.DataFrame` "
   ]
  },
  {
   "cell_type": "code",
   "execution_count": 14,
   "metadata": {},
   "outputs": [],
   "source": [
    "# Import libraries necessary for this project\n",
    "import numpy as np\n",
    "import pandas as pd\n",
    "from IPython.display import display # Allows the use of display() for DataFrames\n",
    "\n",
    "# Pretty display for notebooks\n",
    "import matplotlib.pyplot as plt\n",
    "import seaborn as sb\n",
    "\n",
    "import sklearn\n",
    "%matplotlib inline\n",
    "\n",
    "pd.DataFrame;"
   ]
  },
  {
   "cell_type": "code",
   "execution_count": 18,
   "metadata": {},
   "outputs": [
    {
     "name": "stdout",
     "output_type": "stream",
     "text": [
      "Successfully imported numpy! (Version 1.13.1)\n",
      "Successfully imported pandas! (Version 0.20.3)\n",
      "Successfully imported sklearn! (Version 0.18.2)\n"
     ]
    }
   ],
   "source": [
    "#TODO Complete the following print statements to print out the versions of the libraries we just imported\n",
    "#     You are expected to do a little research to figure this out\n",
    "print(\"Successfully imported numpy! (Version {})\".format(np.version.version))\n",
    "print(\"Successfully imported pandas! (Version {})\".format(pd.__version__))\n",
    "print(\"Successfully imported sklearn! (Version {})\".format(sklearn.__version__))\n"
   ]
  },
  {
   "cell_type": "markdown",
   "metadata": {},
   "source": [
    "#### Verify the scikit-kearn library\n",
    "\n",
    "_scikit-learn is imported as sklearn. It is a large library and generally you only import the subpackages you need._\n",
    "\n",
    "I have collected some of the common imports from the projects you will be doing. Run the cells below to see which ones \n",
    "pass without issue. If you get warning messages or errors, they flag incompatibilities between the versions and 0.17. \n",
    "You may still be able to use your version, but it will be a bit of extra work for you.\n"
   ]
  },
  {
   "cell_type": "code",
   "execution_count": 7,
   "metadata": {},
   "outputs": [
    {
     "name": "stderr",
     "output_type": "stream",
     "text": [
      "c:\\python27x64\\lib\\site-packages\\sklearn\\cross_validation.py:44: DeprecationWarning: This module was deprecated in version 0.18 in favor of the model_selection module into which all the refactored classes and functions are moved. Also note that the interface of the new CV iterators are different from that of this module. This module will be removed in 0.20.\n",
      "  \"This module will be removed in 0.20.\", DeprecationWarning)\n",
      "c:\\python27x64\\lib\\site-packages\\sklearn\\grid_search.py:43: DeprecationWarning: This module was deprecated in version 0.18 in favor of the model_selection module into which all the refactored classes and functions are moved. This module will be removed in 0.20.\n",
      "  DeprecationWarning)\n"
     ]
    }
   ],
   "source": [
    "# Boston Housing\n",
    "# Import libraries necessary for this project \n",
    "\n",
    "from sklearn.cross_validation import ShuffleSplit\n",
    "from sklearn.tree import DecisionTreeRegressor\n",
    "from sklearn.metrics import make_scorer\n",
    "from sklearn.grid_search import GridSearchCV"
   ]
  },
  {
   "cell_type": "code",
   "execution_count": 8,
   "metadata": {},
   "outputs": [
    {
     "data": {
      "text/plain": [
       "<function pandas.util._decorators.wrapper>"
      ]
     },
     "execution_count": 8,
     "metadata": {},
     "output_type": "execute_result"
    }
   ],
   "source": [
    "# Donors for CharityML\n",
    "from sklearn.preprocessing import MinMaxScaler\n",
    "from sklearn.cross_validation import train_test_split\n",
    "from sklearn.base import clone\n",
    "pd.scatter_matrix"
   ]
  },
  {
   "cell_type": "code",
   "execution_count": null,
   "metadata": {
    "collapsed": true
   },
   "outputs": [],
   "source": [
    "from sklearn.decomposition import PCA"
   ]
  },
  {
   "cell_type": "markdown",
   "metadata": {},
   "source": [
    "#### Congratulations!! \n",
    "If you have made it this far then chances are very good that everything is properly installed and we can move on to the\n",
    "fun of machine learning. I have included links to online resources to give you a thorough introduction to `numpy` and pandas. \n",
    "You may browse through them as you need.\n",
    "\n",
    "This course makes relatively light use of `numpy` and `pandas` so take a quick look and revisit as need arises. We will go over some of the elements of numpy in the next section."
   ]
  },
  {
   "cell_type": "markdown",
   "metadata": {},
   "source": [
    "#### Numpy and Pandas Documentation\n",
    "\n",
    " numpy which will allow us to process large amount of numerical data and panda series and dataframes which allow us to store large datasets and extract information from them.\n",
    "\n",
    "Numpy Library Documentation: https://docs.scipy.org/doc/numpy-dev/user/quickstart.html\n",
    "\n",
    "Pandas Library Documentation: http://pandas.pydata.org/pandas-docs/version/0.18.0/\n",
    "\n",
    "We highly recommend going through [this resource](http://cs231n.github.io/python-numpy-tutorial/#numpy) by Justin Johnson if you have not worked with Numpy before.\n",
    "\n",
    "Another great resource is the [SciPy-lectures](http://www.scipy-lectures.org/intro/numpy/index.html) series on this topic."
   ]
  },
  {
   "cell_type": "code",
   "execution_count": null,
   "metadata": {
    "collapsed": true
   },
   "outputs": [],
   "source": []
  }
 ],
 "metadata": {
  "kernelspec": {
   "display_name": "Python 2",
   "language": "python",
   "name": "python2"
  },
  "language_info": {
   "codemirror_mode": {
    "name": "ipython",
    "version": 2
   },
   "file_extension": ".py",
   "mimetype": "text/x-python",
   "name": "python",
   "nbconvert_exporter": "python",
   "pygments_lexer": "ipython2",
   "version": "2.7.12"
  }
 },
 "nbformat": 4,
 "nbformat_minor": 2
}
